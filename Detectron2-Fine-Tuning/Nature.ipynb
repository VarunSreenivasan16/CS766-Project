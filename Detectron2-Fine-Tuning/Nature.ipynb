{
  "nbformat": 4,
  "nbformat_minor": 0,
  "metadata": {
    "colab": {
      "name": "Nature.ipynb",
      "provenance": []
    },
    "kernelspec": {
      "name": "python3",
      "display_name": "Python 3"
    },
    "language_info": {
      "name": "python"
    },
    "accelerator": "GPU"
  },
  "cells": [
    {
      "cell_type": "code",
      "metadata": {
        "colab": {
          "base_uri": "https://localhost:8080/"
        },
        "id": "PA_YRPJfiK0a",
        "outputId": "dd644664-66ba-444b-f809-bc6d99ab8141"
      },
      "source": [
        "!pip3 install pixellib\n",
        "import pixellib\n",
        "from pixellib.custom_train import instance_custom_training"
      ],
      "execution_count": null,
      "outputs": [
        {
          "output_type": "stream",
          "text": [
            "Collecting pixellib\n",
            "\u001b[?25l  Downloading https://files.pythonhosted.org/packages/a4/c3/2a55be96fd11189cd0f3449c699fc02f19ce0d205c49d0780034eb006352/pixellib-0.6.1-py3-none-any.whl (68kB)\n",
            "\r\u001b[K     |████▊                           | 10kB 23.8MB/s eta 0:00:01\r\u001b[K     |█████████▌                      | 20kB 29.5MB/s eta 0:00:01\r\u001b[K     |██████████████▎                 | 30kB 25.4MB/s eta 0:00:01\r\u001b[K     |███████████████████             | 40kB 29.2MB/s eta 0:00:01\r\u001b[K     |███████████████████████▉        | 51kB 27.2MB/s eta 0:00:01\r\u001b[K     |████████████████████████████▋   | 61kB 29.9MB/s eta 0:00:01\r\u001b[K     |████████████████████████████████| 71kB 8.2MB/s \n",
            "\u001b[?25hRequirement already satisfied: opencv-python in /usr/local/lib/python3.7/dist-packages (from pixellib) (4.1.2.30)\n",
            "Collecting labelme2coco\n",
            "  Downloading https://files.pythonhosted.org/packages/36/bf/a0ae23452fccb2215cecdff4df85fd29af4adfbd14e1bcb78379efedd968/labelme2coco-0.1.2-py3-none-any.whl\n",
            "Requirement already satisfied: imgaug in /usr/local/lib/python3.7/dist-packages (from pixellib) (0.2.9)\n",
            "Collecting imantics\n",
            "  Downloading https://files.pythonhosted.org/packages/1a/ff/8f92fa03b42f14860bc882d08187b359d3b8f9ef670d4efbed090d451c58/imantics-0.1.12.tar.gz\n",
            "Requirement already satisfied: scikit-image in /usr/local/lib/python3.7/dist-packages (from pixellib) (0.16.2)\n",
            "Requirement already satisfied: pillow in /usr/local/lib/python3.7/dist-packages (from pixellib) (7.1.2)\n",
            "Requirement already satisfied: matplotlib in /usr/local/lib/python3.7/dist-packages (from pixellib) (3.2.2)\n",
            "Requirement already satisfied: numpy>=1.14.5 in /usr/local/lib/python3.7/dist-packages (from opencv-python->pixellib) (1.19.5)\n",
            "Requirement already satisfied: jsonschema>=2.6.0 in /usr/local/lib/python3.7/dist-packages (from labelme2coco->pixellib) (2.6.0)\n",
            "Requirement already satisfied: Shapely in /usr/local/lib/python3.7/dist-packages (from imgaug->pixellib) (1.7.1)\n",
            "Requirement already satisfied: six in /usr/local/lib/python3.7/dist-packages (from imgaug->pixellib) (1.15.0)\n",
            "Requirement already satisfied: imageio in /usr/local/lib/python3.7/dist-packages (from imgaug->pixellib) (2.4.1)\n",
            "Requirement already satisfied: scipy in /usr/local/lib/python3.7/dist-packages (from imgaug->pixellib) (1.4.1)\n",
            "Requirement already satisfied: lxml in /usr/local/lib/python3.7/dist-packages (from imantics->pixellib) (4.2.6)\n",
            "Collecting xmljson\n",
            "  Downloading https://files.pythonhosted.org/packages/91/2d/7191efe15406b8b99e2b5905ca676a8a3dc2936416ade7ed17752902c250/xmljson-0.2.1-py2.py3-none-any.whl\n",
            "Requirement already satisfied: networkx>=2.0 in /usr/local/lib/python3.7/dist-packages (from scikit-image->pixellib) (2.5)\n",
            "Requirement already satisfied: PyWavelets>=0.4.0 in /usr/local/lib/python3.7/dist-packages (from scikit-image->pixellib) (1.1.1)\n",
            "Requirement already satisfied: kiwisolver>=1.0.1 in /usr/local/lib/python3.7/dist-packages (from matplotlib->pixellib) (1.3.1)\n",
            "Requirement already satisfied: cycler>=0.10 in /usr/local/lib/python3.7/dist-packages (from matplotlib->pixellib) (0.10.0)\n",
            "Requirement already satisfied: python-dateutil>=2.1 in /usr/local/lib/python3.7/dist-packages (from matplotlib->pixellib) (2.8.1)\n",
            "Requirement already satisfied: pyparsing!=2.0.4,!=2.1.2,!=2.1.6,>=2.0.1 in /usr/local/lib/python3.7/dist-packages (from matplotlib->pixellib) (2.4.7)\n",
            "Requirement already satisfied: decorator>=4.3.0 in /usr/local/lib/python3.7/dist-packages (from networkx>=2.0->scikit-image->pixellib) (4.4.2)\n",
            "Building wheels for collected packages: imantics\n",
            "  Building wheel for imantics (setup.py) ... \u001b[?25l\u001b[?25hdone\n",
            "  Created wheel for imantics: filename=imantics-0.1.12-cp37-none-any.whl size=16033 sha256=e507d1cc635aaa4fe00842fc6f8a08137d93b602921f7e216faa840afc8bed8b\n",
            "  Stored in directory: /root/.cache/pip/wheels/73/93/1c/9e2fc52eb74441941bc76cac441ddcc2c7ad67b18e1849e62a\n",
            "Successfully built imantics\n",
            "Installing collected packages: labelme2coco, xmljson, imantics, pixellib\n",
            "Successfully installed imantics-0.1.12 labelme2coco-0.1.2 pixellib-0.6.1 xmljson-0.2.1\n"
          ],
          "name": "stdout"
        }
      ]
    },
    {
      "cell_type": "code",
      "metadata": {
        "id": "Yln5W4FIlI0r"
      },
      "source": [
        "!cp -r \"./drive/MyDrive/Datasets/Nature\" \".\""
      ],
      "execution_count": null,
      "outputs": []
    },
    {
      "cell_type": "code",
      "metadata": {
        "id": "vA7Bm7sZmnDV"
      },
      "source": [
        "vis_img = instance_custom_training()\n",
        "vis_img.load_dataset(\"Nature\")"
      ],
      "execution_count": null,
      "outputs": []
    },
    {
      "cell_type": "code",
      "metadata": {
        "colab": {
          "base_uri": "https://localhost:8080/",
          "height": 685
        },
        "id": "lY2BV6ALnWCR",
        "outputId": "a505d239-717a-4641-f593-c3bdc3c739db"
      },
      "source": [
        "!pip install -U torch torchvision\n",
        "!pip install git+https://github.com/facebookresearch/fvcore.git\n",
        "import torch, torchvision\n",
        "torch.__version__"
      ],
      "execution_count": null,
      "outputs": [
        {
          "output_type": "stream",
          "text": [
            "Requirement already up-to-date: torch in /usr/local/lib/python3.7/dist-packages (1.8.1+cu101)\n",
            "Requirement already up-to-date: torchvision in /usr/local/lib/python3.7/dist-packages (0.9.1+cu101)\n",
            "Requirement already satisfied, skipping upgrade: typing-extensions in /usr/local/lib/python3.7/dist-packages (from torch) (3.7.4.3)\n",
            "Requirement already satisfied, skipping upgrade: numpy in /usr/local/lib/python3.7/dist-packages (from torch) (1.19.5)\n",
            "Requirement already satisfied, skipping upgrade: pillow>=4.1.1 in /usr/local/lib/python3.7/dist-packages (from torchvision) (7.1.2)\n",
            "Collecting git+https://github.com/facebookresearch/fvcore.git\n",
            "  Cloning https://github.com/facebookresearch/fvcore.git to /tmp/pip-req-build-9y3_xmq4\n",
            "  Running command git clone -q https://github.com/facebookresearch/fvcore.git /tmp/pip-req-build-9y3_xmq4\n",
            "Requirement already satisfied: numpy in /usr/local/lib/python3.7/dist-packages (from fvcore==0.1.5) (1.19.5)\n",
            "Collecting yacs>=0.1.6\n",
            "  Downloading https://files.pythonhosted.org/packages/38/4f/fe9a4d472aa867878ce3bb7efb16654c5d63672b86dc0e6e953a67018433/yacs-0.1.8-py3-none-any.whl\n",
            "Collecting pyyaml>=5.1\n",
            "\u001b[?25l  Downloading https://files.pythonhosted.org/packages/7a/a5/393c087efdc78091afa2af9f1378762f9821c9c1d7a22c5753fb5ac5f97a/PyYAML-5.4.1-cp37-cp37m-manylinux1_x86_64.whl (636kB)\n",
            "\u001b[K     |████████████████████████████████| 645kB 13.5MB/s \n",
            "\u001b[?25hRequirement already satisfied: tqdm in /usr/local/lib/python3.7/dist-packages (from fvcore==0.1.5) (4.41.1)\n",
            "Requirement already satisfied: termcolor>=1.1 in /usr/local/lib/python3.7/dist-packages (from fvcore==0.1.5) (1.1.0)\n",
            "Requirement already satisfied: Pillow in /usr/local/lib/python3.7/dist-packages (from fvcore==0.1.5) (7.1.2)\n",
            "Requirement already satisfied: tabulate in /usr/local/lib/python3.7/dist-packages (from fvcore==0.1.5) (0.8.9)\n",
            "Collecting iopath>=0.1.7\n",
            "  Downloading https://files.pythonhosted.org/packages/21/d0/22104caed16fa41382702fed959f4a9b088b2f905e7a82e4483180a2ec2a/iopath-0.1.8-py3-none-any.whl\n",
            "Collecting portalocker\n",
            "  Downloading https://files.pythonhosted.org/packages/68/33/cb524f4de298509927b90aa5ee34767b9a2b93e663cf354b2a3efa2b4acd/portalocker-2.3.0-py2.py3-none-any.whl\n",
            "Building wheels for collected packages: fvcore\n",
            "  Building wheel for fvcore (setup.py) ... \u001b[?25l\u001b[?25hdone\n",
            "  Created wheel for fvcore: filename=fvcore-0.1.5-cp37-none-any.whl size=62712 sha256=df463743f158cd890d56a863b40f6c32a43c2f36dcc3b52e9a600bc997554ad8\n",
            "  Stored in directory: /tmp/pip-ephem-wheel-cache-j8yczhsk/wheels/48/53/79/3c6485543a4455a0006f5db590ab9957622b6227011941de06\n",
            "Successfully built fvcore\n",
            "Installing collected packages: pyyaml, yacs, portalocker, iopath, fvcore\n",
            "  Found existing installation: PyYAML 3.13\n",
            "    Uninstalling PyYAML-3.13:\n",
            "      Successfully uninstalled PyYAML-3.13\n",
            "Successfully installed fvcore-0.1.5 iopath-0.1.8 portalocker-2.3.0 pyyaml-5.4.1 yacs-0.1.8\n"
          ],
          "name": "stdout"
        },
        {
          "output_type": "display_data",
          "data": {
            "application/vnd.colab-display-data+json": {
              "pip_warning": {
                "packages": [
                  "yaml"
                ]
              }
            }
          },
          "metadata": {
            "tags": []
          }
        },
        {
          "output_type": "execute_result",
          "data": {
            "application/vnd.google.colaboratory.intrinsic+json": {
              "type": "string"
            },
            "text/plain": [
              "'1.8.1+cu101'"
            ]
          },
          "metadata": {
            "tags": []
          },
          "execution_count": 4
        }
      ]
    },
    {
      "cell_type": "code",
      "metadata": {
        "colab": {
          "base_uri": "https://localhost:8080/",
          "height": 1000
        },
        "id": "Qcgktlq-nZfZ",
        "outputId": "876f5fb0-055b-4e74-d594-df749f3838a5"
      },
      "source": [
        "!git clone https://github.com/facebookresearch/detectron2 detectron2_repo\n",
        "!pip install -e detectron2_repo"
      ],
      "execution_count": null,
      "outputs": [
        {
          "output_type": "stream",
          "text": [
            "Cloning into 'detectron2_repo'...\n",
            "remote: Enumerating objects: 45, done.\u001b[K\n",
            "remote: Counting objects:   2% (1/45)\u001b[K\rremote: Counting objects:   4% (2/45)\u001b[K\rremote: Counting objects:   6% (3/45)\u001b[K\rremote: Counting objects:   8% (4/45)\u001b[K\rremote: Counting objects:  11% (5/45)\u001b[K\rremote: Counting objects:  13% (6/45)\u001b[K\rremote: Counting objects:  15% (7/45)\u001b[K\rremote: Counting objects:  17% (8/45)\u001b[K\rremote: Counting objects:  20% (9/45)\u001b[K\rremote: Counting objects:  22% (10/45)\u001b[K\rremote: Counting objects:  24% (11/45)\u001b[K\rremote: Counting objects:  26% (12/45)\u001b[K\rremote: Counting objects:  28% (13/45)\u001b[K\rremote: Counting objects:  31% (14/45)\u001b[K\rremote: Counting objects:  33% (15/45)\u001b[K\rremote: Counting objects:  35% (16/45)\u001b[K\rremote: Counting objects:  37% (17/45)\u001b[K\rremote: Counting objects:  40% (18/45)\u001b[K\rremote: Counting objects:  42% (19/45)\u001b[K\rremote: Counting objects:  44% (20/45)\u001b[K\rremote: Counting objects:  46% (21/45)\u001b[K\rremote: Counting objects:  48% (22/45)\u001b[K\rremote: Counting objects:  51% (23/45)\u001b[K\rremote: Counting objects:  53% (24/45)\u001b[K\rremote: Counting objects:  55% (25/45)\u001b[K\rremote: Counting objects:  57% (26/45)\u001b[K\rremote: Counting objects:  60% (27/45)\u001b[K\rremote: Counting objects:  62% (28/45)\u001b[K\rremote: Counting objects:  64% (29/45)\u001b[K\rremote: Counting objects:  66% (30/45)\u001b[K\rremote: Counting objects:  68% (31/45)\u001b[K\rremote: Counting objects:  71% (32/45)\u001b[K\rremote: Counting objects:  73% (33/45)\u001b[K\rremote: Counting objects:  75% (34/45)\u001b[K\rremote: Counting objects:  77% (35/45)\u001b[K\rremote: Counting objects:  80% (36/45)\u001b[K\rremote: Counting objects:  82% (37/45)\u001b[K\rremote: Counting objects:  84% (38/45)\u001b[K\rremote: Counting objects:  86% (39/45)\u001b[K\rremote: Counting objects:  88% (40/45)\u001b[K\rremote: Counting objects:  91% (41/45)\u001b[K\rremote: Counting objects:  93% (42/45)\u001b[K\rremote: Counting objects:  95% (43/45)\u001b[K\rremote: Counting objects:  97% (44/45)\u001b[K\rremote: Counting objects: 100% (45/45)\u001b[K\rremote: Counting objects: 100% (45/45), done.\u001b[K\n",
            "remote: Compressing objects: 100% (40/40), done.\u001b[K\n",
            "remote: Total 11382 (delta 5), reused 15 (delta 5), pack-reused 11337\u001b[K\n",
            "Receiving objects: 100% (11382/11382), 4.58 MiB | 7.22 MiB/s, done.\n",
            "Resolving deltas: 100% (8285/8285), done.\n",
            "Obtaining file:///content/detectron2_repo\n",
            "Requirement already satisfied: termcolor>=1.1 in /usr/local/lib/python3.7/dist-packages (from detectron2==0.4) (1.1.0)\n",
            "Requirement already satisfied: Pillow>=7.1 in /usr/local/lib/python3.7/dist-packages (from detectron2==0.4) (7.1.2)\n",
            "Requirement already satisfied: yacs>=0.1.6 in /usr/local/lib/python3.7/dist-packages (from detectron2==0.4) (0.1.8)\n",
            "Requirement already satisfied: tabulate in /usr/local/lib/python3.7/dist-packages (from detectron2==0.4) (0.8.9)\n",
            "Requirement already satisfied: cloudpickle in /usr/local/lib/python3.7/dist-packages (from detectron2==0.4) (1.3.0)\n",
            "Requirement already satisfied: matplotlib in /usr/local/lib/python3.7/dist-packages (from detectron2==0.4) (3.2.2)\n",
            "Requirement already satisfied: tqdm>4.29.0 in /usr/local/lib/python3.7/dist-packages (from detectron2==0.4) (4.41.1)\n",
            "Requirement already satisfied: tensorboard in /usr/local/lib/python3.7/dist-packages (from detectron2==0.4) (2.4.1)\n",
            "Requirement already satisfied: fvcore<0.1.6,>=0.1.5 in /usr/local/lib/python3.7/dist-packages (from detectron2==0.4) (0.1.5)\n",
            "Collecting iopath<0.1.8,>=0.1.7\n",
            "  Downloading https://files.pythonhosted.org/packages/e3/d5/1c70fea7632640e8a9fb5a176676e555238119b3e7ee8b6dc49980ec5769/iopath-0.1.7-py3-none-any.whl\n",
            "Requirement already satisfied: pycocotools>=2.0.2 in /usr/local/lib/python3.7/dist-packages (from detectron2==0.4) (2.0.2)\n",
            "Requirement already satisfied: future in /usr/local/lib/python3.7/dist-packages (from detectron2==0.4) (0.16.0)\n",
            "Requirement already satisfied: pydot in /usr/local/lib/python3.7/dist-packages (from detectron2==0.4) (1.3.0)\n",
            "Collecting omegaconf==2.1.0.dev22\n",
            "\u001b[?25l  Downloading https://files.pythonhosted.org/packages/46/1c/6ecce6df0e112f381c355144b4f8de56157e68abbf93a7dd3fbf98d28ac2/omegaconf-2.1.0.dev22-py3-none-any.whl (66kB)\n",
            "\u001b[K     |████████████████████████████████| 71kB 9.8MB/s \n",
            "\u001b[?25hRequirement already satisfied: PyYAML in /usr/local/lib/python3.7/dist-packages (from yacs>=0.1.6->detectron2==0.4) (5.4.1)\n",
            "Requirement already satisfied: cycler>=0.10 in /usr/local/lib/python3.7/dist-packages (from matplotlib->detectron2==0.4) (0.10.0)\n",
            "Requirement already satisfied: kiwisolver>=1.0.1 in /usr/local/lib/python3.7/dist-packages (from matplotlib->detectron2==0.4) (1.3.1)\n",
            "Requirement already satisfied: python-dateutil>=2.1 in /usr/local/lib/python3.7/dist-packages (from matplotlib->detectron2==0.4) (2.8.1)\n",
            "Requirement already satisfied: pyparsing!=2.0.4,!=2.1.2,!=2.1.6,>=2.0.1 in /usr/local/lib/python3.7/dist-packages (from matplotlib->detectron2==0.4) (2.4.7)\n",
            "Requirement already satisfied: numpy>=1.11 in /usr/local/lib/python3.7/dist-packages (from matplotlib->detectron2==0.4) (1.19.5)\n",
            "Requirement already satisfied: protobuf>=3.6.0 in /usr/local/lib/python3.7/dist-packages (from tensorboard->detectron2==0.4) (3.12.4)\n",
            "Requirement already satisfied: setuptools>=41.0.0 in /usr/local/lib/python3.7/dist-packages (from tensorboard->detectron2==0.4) (54.2.0)\n",
            "Requirement already satisfied: wheel>=0.26; python_version >= \"3\" in /usr/local/lib/python3.7/dist-packages (from tensorboard->detectron2==0.4) (0.36.2)\n",
            "Requirement already satisfied: google-auth<2,>=1.6.3 in /usr/local/lib/python3.7/dist-packages (from tensorboard->detectron2==0.4) (1.28.0)\n",
            "Requirement already satisfied: absl-py>=0.4 in /usr/local/lib/python3.7/dist-packages (from tensorboard->detectron2==0.4) (0.12.0)\n",
            "Requirement already satisfied: requests<3,>=2.21.0 in /usr/local/lib/python3.7/dist-packages (from tensorboard->detectron2==0.4) (2.23.0)\n",
            "Requirement already satisfied: six>=1.10.0 in /usr/local/lib/python3.7/dist-packages (from tensorboard->detectron2==0.4) (1.15.0)\n",
            "Requirement already satisfied: werkzeug>=0.11.15 in /usr/local/lib/python3.7/dist-packages (from tensorboard->detectron2==0.4) (1.0.1)\n",
            "Requirement already satisfied: google-auth-oauthlib<0.5,>=0.4.1 in /usr/local/lib/python3.7/dist-packages (from tensorboard->detectron2==0.4) (0.4.3)\n",
            "Requirement already satisfied: grpcio>=1.24.3 in /usr/local/lib/python3.7/dist-packages (from tensorboard->detectron2==0.4) (1.32.0)\n",
            "Requirement already satisfied: markdown>=2.6.8 in /usr/local/lib/python3.7/dist-packages (from tensorboard->detectron2==0.4) (3.3.4)\n",
            "Requirement already satisfied: tensorboard-plugin-wit>=1.6.0 in /usr/local/lib/python3.7/dist-packages (from tensorboard->detectron2==0.4) (1.8.0)\n",
            "Requirement already satisfied: portalocker in /usr/local/lib/python3.7/dist-packages (from iopath<0.1.8,>=0.1.7->detectron2==0.4) (2.3.0)\n",
            "Requirement already satisfied: cython>=0.27.3 in /usr/local/lib/python3.7/dist-packages (from pycocotools>=2.0.2->detectron2==0.4) (0.29.22)\n",
            "Collecting antlr4-python3-runtime==4.8\n",
            "\u001b[?25l  Downloading https://files.pythonhosted.org/packages/56/02/789a0bddf9c9b31b14c3e79ec22b9656185a803dc31c15f006f9855ece0d/antlr4-python3-runtime-4.8.tar.gz (112kB)\n",
            "\u001b[K     |████████████████████████████████| 112kB 27.9MB/s \n",
            "\u001b[?25hRequirement already satisfied: rsa<5,>=3.1.4; python_version >= \"3.6\" in /usr/local/lib/python3.7/dist-packages (from google-auth<2,>=1.6.3->tensorboard->detectron2==0.4) (4.7.2)\n",
            "Requirement already satisfied: pyasn1-modules>=0.2.1 in /usr/local/lib/python3.7/dist-packages (from google-auth<2,>=1.6.3->tensorboard->detectron2==0.4) (0.2.8)\n",
            "Requirement already satisfied: cachetools<5.0,>=2.0.0 in /usr/local/lib/python3.7/dist-packages (from google-auth<2,>=1.6.3->tensorboard->detectron2==0.4) (4.2.1)\n",
            "Requirement already satisfied: urllib3!=1.25.0,!=1.25.1,<1.26,>=1.21.1 in /usr/local/lib/python3.7/dist-packages (from requests<3,>=2.21.0->tensorboard->detectron2==0.4) (1.24.3)\n",
            "Requirement already satisfied: certifi>=2017.4.17 in /usr/local/lib/python3.7/dist-packages (from requests<3,>=2.21.0->tensorboard->detectron2==0.4) (2020.12.5)\n",
            "Requirement already satisfied: chardet<4,>=3.0.2 in /usr/local/lib/python3.7/dist-packages (from requests<3,>=2.21.0->tensorboard->detectron2==0.4) (3.0.4)\n",
            "Requirement already satisfied: idna<3,>=2.5 in /usr/local/lib/python3.7/dist-packages (from requests<3,>=2.21.0->tensorboard->detectron2==0.4) (2.10)\n",
            "Requirement already satisfied: requests-oauthlib>=0.7.0 in /usr/local/lib/python3.7/dist-packages (from google-auth-oauthlib<0.5,>=0.4.1->tensorboard->detectron2==0.4) (1.3.0)\n",
            "Requirement already satisfied: importlib-metadata; python_version < \"3.8\" in /usr/local/lib/python3.7/dist-packages (from markdown>=2.6.8->tensorboard->detectron2==0.4) (3.8.1)\n",
            "Requirement already satisfied: pyasn1>=0.1.3 in /usr/local/lib/python3.7/dist-packages (from rsa<5,>=3.1.4; python_version >= \"3.6\"->google-auth<2,>=1.6.3->tensorboard->detectron2==0.4) (0.4.8)\n",
            "Requirement already satisfied: oauthlib>=3.0.0 in /usr/local/lib/python3.7/dist-packages (from requests-oauthlib>=0.7.0->google-auth-oauthlib<0.5,>=0.4.1->tensorboard->detectron2==0.4) (3.1.0)\n",
            "Requirement already satisfied: zipp>=0.5 in /usr/local/lib/python3.7/dist-packages (from importlib-metadata; python_version < \"3.8\"->markdown>=2.6.8->tensorboard->detectron2==0.4) (3.4.1)\n",
            "Requirement already satisfied: typing-extensions>=3.6.4; python_version < \"3.8\" in /usr/local/lib/python3.7/dist-packages (from importlib-metadata; python_version < \"3.8\"->markdown>=2.6.8->tensorboard->detectron2==0.4) (3.7.4.3)\n",
            "Building wheels for collected packages: antlr4-python3-runtime\n",
            "  Building wheel for antlr4-python3-runtime (setup.py) ... \u001b[?25l\u001b[?25hdone\n",
            "  Created wheel for antlr4-python3-runtime: filename=antlr4_python3_runtime-4.8-cp37-none-any.whl size=141231 sha256=608b293e2525b4e7a32e81dd077e954d04d7914bb565fe60d90b8896593fd5dc\n",
            "  Stored in directory: /root/.cache/pip/wheels/e3/e2/fa/b78480b448b8579ddf393bebd3f47ee23aa84c89b6a78285c8\n",
            "Successfully built antlr4-python3-runtime\n",
            "Installing collected packages: iopath, antlr4-python3-runtime, omegaconf, detectron2\n",
            "  Found existing installation: iopath 0.1.8\n",
            "    Uninstalling iopath-0.1.8:\n",
            "      Successfully uninstalled iopath-0.1.8\n",
            "  Running setup.py develop for detectron2\n",
            "Successfully installed antlr4-python3-runtime-4.8 detectron2 iopath-0.1.7 omegaconf-2.1.0.dev22\n"
          ],
          "name": "stdout"
        },
        {
          "output_type": "display_data",
          "data": {
            "application/vnd.colab-display-data+json": {
              "pip_warning": {
                "packages": [
                  "pydevd_plugins"
                ]
              }
            }
          },
          "metadata": {
            "tags": []
          }
        }
      ]
    },
    {
      "cell_type": "code",
      "metadata": {
        "id": "CJtbr123nj5N"
      },
      "source": [
        "import detectron2\n",
        "from detectron2.utils.logger import setup_logger\n",
        "setup_logger()\n",
        "\n",
        "# import some common libraries\n",
        "import numpy as np\n",
        "import cv2\n",
        "import random\n",
        "from google.colab.patches import cv2_imshow\n",
        "\n",
        "# import some common detectron2 utilities\n",
        "from detectron2 import model_zoo\n",
        "from detectron2.engine import DefaultPredictor\n",
        "from detectron2.config import get_cfg\n",
        "from detectron2.utils.visualizer import Visualizer\n",
        "from detectron2.data import MetadataCatalog, DatasetCatalog"
      ],
      "execution_count": null,
      "outputs": []
    },
    {
      "cell_type": "code",
      "metadata": {
        "id": "e2pO8sq0nmKl"
      },
      "source": [
        "from detectron2.data.datasets import register_coco_instances\n",
        "register_coco_instances(\"Nature_train\", {}, \"./Nature/train.json\", \"./Nature/train\")\n",
        "register_coco_instances(\"Nature_test\", {}, \"./Nature/test.json\", \"./Nature/test\")"
      ],
      "execution_count": null,
      "outputs": []
    },
    {
      "cell_type": "code",
      "metadata": {
        "colab": {
          "base_uri": "https://localhost:8080/"
        },
        "id": "EnCvXSqtoIA5",
        "outputId": "179fe0d7-f39d-4726-c54f-7922ca6866e2"
      },
      "source": [
        "train_metadata = MetadataCatalog.get(\"Nature_train\")\n",
        "dataset_dicts = DatasetCatalog.get(\"Nature_train\")"
      ],
      "execution_count": null,
      "outputs": [
        {
          "output_type": "stream",
          "text": [
            "\u001b[32m[03/31 05:05:34 d2.data.datasets.coco]: \u001b[0mLoaded 600 images in COCO format from ./Nature/train.json\n"
          ],
          "name": "stdout"
        }
      ]
    },
    {
      "cell_type": "code",
      "metadata": {
        "colab": {
          "base_uri": "https://localhost:8080/",
          "height": 368
        },
        "id": "eFpctpeDoO-g",
        "outputId": "b06bb9b6-1ec5-40c5-d029-dd199b67303c"
      },
      "source": [
        "import random\n",
        "\n",
        "for d in random.sample(dataset_dicts, 3):\n",
        "    img = cv2.imread(d[\"file_name\"])\n",
        "    visualizer = Visualizer(img[:, :, ::-1], metadata=train_metadata, scale=0.5)\n",
        "    vis = visualizer.draw_dataset_dict(d)\n",
        "    cv2_imshow(vis.get_image()[:, :, ::-1])"
      ],
      "execution_count": null,
      "outputs": [
        {
          "output_type": "display_data",
          "data": {
            "image/png": "[encoded data removed]",
            "text/plain": [
              "<PIL.Image.Image image mode=RGB size=91x137 at 0x7FB92E145810>"
            ]
          },
          "metadata": {
            "tags": []
          }
        },
        {
          "output_type": "display_data",
          "data": {
            "image/png": "[encoded data removed]",
            "text/plain": [
              "<PIL.Image.Image image mode=RGB size=141x89 at 0x7FB92E1B2790>"
            ]
          },
          "metadata": {
            "tags": []
          }
        },
        {
          "output_type": "display_data",
          "data": {
            "image/png": "[encoded data removed]",
            "text/plain": [
              "<PIL.Image.Image image mode=RGB size=100x125 at 0x7FB92E07AFD0>"
            ]
          },
          "metadata": {
            "tags": []
          }
        }
      ]
    },
    {
      "cell_type": "code",
      "metadata": {
        "colab": {
          "base_uri": "https://localhost:8080/"
        },
        "id": "ukzM-TXQoZLh",
        "outputId": "ead2464a-170a-4d6d-e910-bec60339dd73"
      },
      "source": [
        "from detectron2.engine import DefaultTrainer\n",
        "from detectron2.config import get_cfg\n",
        "import os\n",
        "\n",
        "cfg = get_cfg()\n",
        "cfg.merge_from_file(model_zoo.get_config_file(\"COCO-InstanceSegmentation/mask_rcnn_R_50_FPN_3x.yaml\"))\n",
        "cfg.DATASETS.TRAIN = (\"Nature_train\",)\n",
        "cfg.DATASETS.TEST = ()\n",
        "cfg.DATALOADER.NUM_WORKERS = 2\n",
        "cfg.MODEL.WEIGHTS = model_zoo.get_checkpoint_url(\"COCO-InstanceSegmentation/mask_rcnn_R_50_FPN_3x.yaml\")\n",
        "cfg.SOLVER.IMS_PER_BATCH = 2\n",
        "cfg.SOLVER.BASE_LR = 0.00025\n",
        "cfg.SOLVER.MAX_ITER = 1000\n",
        "cfg.MODEL.ROI_HEADS.NUM_CLASSES = 2\n",
        "\n",
        "os.makedirs(cfg.OUTPUT_DIR, exist_ok=True)\n",
        "trainer = DefaultTrainer(cfg) \n",
        "trainer.resume_or_load(resume=False)\n",
        "trainer.train()"
      ],
      "execution_count": null,
      "outputs": [
        {
          "output_type": "stream",
          "text": [
            "\u001b[32m[03/31 05:05:53 d2.engine.defaults]: \u001b[0mModel:\n",
            "GeneralizedRCNN(\n",
            "  (backbone): FPN(\n",
            "    (fpn_lateral2): Conv2d(256, 256, kernel_size=(1, 1), stride=(1, 1))\n",
            "    (fpn_output2): Conv2d(256, 256, kernel_size=(3, 3), stride=(1, 1), padding=(1, 1))\n",
            "    (fpn_lateral3): Conv2d(512, 256, kernel_size=(1, 1), stride=(1, 1))\n",
            "    (fpn_output3): Conv2d(256, 256, kernel_size=(3, 3), stride=(1, 1), padding=(1, 1))\n",
            "    (fpn_lateral4): Conv2d(1024, 256, kernel_size=(1, 1), stride=(1, 1))\n",
            "    (fpn_output4): Conv2d(256, 256, kernel_size=(3, 3), stride=(1, 1), padding=(1, 1))\n",
            "    (fpn_lateral5): Conv2d(2048, 256, kernel_size=(1, 1), stride=(1, 1))\n",
            "    (fpn_output5): Conv2d(256, 256, kernel_size=(3, 3), stride=(1, 1), padding=(1, 1))\n",
            "    (top_block): LastLevelMaxPool()\n",
            "    (bottom_up): ResNet(\n",
            "      (stem): BasicStem(\n",
            "        (conv1): Conv2d(\n",
            "          3, 64, kernel_size=(7, 7), stride=(2, 2), padding=(3, 3), bias=False\n",
            "          (norm): FrozenBatchNorm2d(num_features=64, eps=1e-05)\n",
            "        )\n",
            "      )\n",
            "      (res2): Sequential(\n",
            "        (0): BottleneckBlock(\n",
            "          (shortcut): Conv2d(\n",
            "            64, 256, kernel_size=(1, 1), stride=(1, 1), bias=False\n",
            "            (norm): FrozenBatchNorm2d(num_features=256, eps=1e-05)\n",
            "          )\n",
            "          (conv1): Conv2d(\n",
            "            64, 64, kernel_size=(1, 1), stride=(1, 1), bias=False\n",
            "            (norm): FrozenBatchNorm2d(num_features=64, eps=1e-05)\n",
            "          )\n",
            "          (conv2): Conv2d(\n",
            "            64, 64, kernel_size=(3, 3), stride=(1, 1), padding=(1, 1), bias=False\n",
            "            (norm): FrozenBatchNorm2d(num_features=64, eps=1e-05)\n",
            "          )\n",
            "          (conv3): Conv2d(\n",
            "            64, 256, kernel_size=(1, 1), stride=(1, 1), bias=False\n",
            "            (norm): FrozenBatchNorm2d(num_features=256, eps=1e-05)\n",
            "          )\n",
            "        )\n",
            "        (1): BottleneckBlock(\n",
            "          (conv1): Conv2d(\n",
            "            256, 64, kernel_size=(1, 1), stride=(1, 1), bias=False\n",
            "            (norm): FrozenBatchNorm2d(num_features=64, eps=1e-05)\n",
            "          )\n",
            "          (conv2): Conv2d(\n",
            "            64, 64, kernel_size=(3, 3), stride=(1, 1), padding=(1, 1), bias=False\n",
            "            (norm): FrozenBatchNorm2d(num_features=64, eps=1e-05)\n",
            "          )\n",
            "          (conv3): Conv2d(\n",
            "            64, 256, kernel_size=(1, 1), stride=(1, 1), bias=False\n",
            "            (norm): FrozenBatchNorm2d(num_features=256, eps=1e-05)\n",
            "          )\n",
            "        )\n",
            "        (2): BottleneckBlock(\n",
            "          (conv1): Conv2d(\n",
            "            256, 64, kernel_size=(1, 1), stride=(1, 1), bias=False\n",
            "            (norm): FrozenBatchNorm2d(num_features=64, eps=1e-05)\n",
            "          )\n",
            "          (conv2): Conv2d(\n",
            "            64, 64, kernel_size=(3, 3), stride=(1, 1), padding=(1, 1), bias=False\n",
            "            (norm): FrozenBatchNorm2d(num_features=64, eps=1e-05)\n",
            "          )\n",
            "          (conv3): Conv2d(\n",
            "            64, 256, kernel_size=(1, 1), stride=(1, 1), bias=False\n",
            "            (norm): FrozenBatchNorm2d(num_features=256, eps=1e-05)\n",
            "          )\n",
            "        )\n",
            "      )\n",
            "      (res3): Sequential(\n",
            "        (0): BottleneckBlock(\n",
            "          (shortcut): Conv2d(\n",
            "            256, 512, kernel_size=(1, 1), stride=(2, 2), bias=False\n",
            "            (norm): FrozenBatchNorm2d(num_features=512, eps=1e-05)\n",
            "          )\n",
            "          (conv1): Conv2d(\n",
            "            256, 128, kernel_size=(1, 1), stride=(2, 2), bias=False\n",
            "            (norm): FrozenBatchNorm2d(num_features=128, eps=1e-05)\n",
            "          )\n",
            "          (conv2): Conv2d(\n",
            "            128, 128, kernel_size=(3, 3), stride=(1, 1), padding=(1, 1), bias=False\n",
            "            (norm): FrozenBatchNorm2d(num_features=128, eps=1e-05)\n",
            "          )\n",
            "          (conv3): Conv2d(\n",
            "            128, 512, kernel_size=(1, 1), stride=(1, 1), bias=False\n",
            "            (norm): FrozenBatchNorm2d(num_features=512, eps=1e-05)\n",
            "          )\n",
            "        )\n",
            "        (1): BottleneckBlock(\n",
            "          (conv1): Conv2d(\n",
            "            512, 128, kernel_size=(1, 1), stride=(1, 1), bias=False\n",
            "            (norm): FrozenBatchNorm2d(num_features=128, eps=1e-05)\n",
            "          )\n",
            "          (conv2): Conv2d(\n",
            "            128, 128, kernel_size=(3, 3), stride=(1, 1), padding=(1, 1), bias=False\n",
            "            (norm): FrozenBatchNorm2d(num_features=128, eps=1e-05)\n",
            "          )\n",
            "          (conv3): Conv2d(\n",
            "            128, 512, kernel_size=(1, 1), stride=(1, 1), bias=False\n",
            "            (norm): FrozenBatchNorm2d(num_features=512, eps=1e-05)\n",
            "          )\n",
            "        )\n",
            "        (2): BottleneckBlock(\n",
            "          (conv1): Conv2d(\n",
            "            512, 128, kernel_size=(1, 1), stride=(1, 1), bias=False\n",
            "            (norm): FrozenBatchNorm2d(num_features=128, eps=1e-05)\n",
            "          )\n",
            "          (conv2): Conv2d(\n",
            "            128, 128, kernel_size=(3, 3), stride=(1, 1), padding=(1, 1), bias=False\n",
            "            (norm): FrozenBatchNorm2d(num_features=128, eps=1e-05)\n",
            "          )\n",
            "          (conv3): Conv2d(\n",
            "            128, 512, kernel_size=(1, 1), stride=(1, 1), bias=False\n",
            "            (norm): FrozenBatchNorm2d(num_features=512, eps=1e-05)\n",
            "          )\n",
            "        )\n",
            "        (3): BottleneckBlock(\n",
            "          (conv1): Conv2d(\n",
            "            512, 128, kernel_size=(1, 1), stride=(1, 1), bias=False\n",
            "            (norm): FrozenBatchNorm2d(num_features=128, eps=1e-05)\n",
            "          )\n",
            "          (conv2): Conv2d(\n",
            "            128, 128, kernel_size=(3, 3), stride=(1, 1), padding=(1, 1), bias=False\n",
            "            (norm): FrozenBatchNorm2d(num_features=128, eps=1e-05)\n",
            "          )\n",
            "          (conv3): Conv2d(\n",
            "            128, 512, kernel_size=(1, 1), stride=(1, 1), bias=False\n",
            "            (norm): FrozenBatchNorm2d(num_features=512, eps=1e-05)\n",
            "          )\n",
            "        )\n",
            "      )\n",
            "      (res4): Sequential(\n",
            "        (0): BottleneckBlock(\n",
            "          (shortcut): Conv2d(\n",
            "            512, 1024, kernel_size=(1, 1), stride=(2, 2), bias=False\n",
            "            (norm): FrozenBatchNorm2d(num_features=1024, eps=1e-05)\n",
            "          )\n",
            "          (conv1): Conv2d(\n",
            "            512, 256, kernel_size=(1, 1), stride=(2, 2), bias=False\n",
            "            (norm): FrozenBatchNorm2d(num_features=256, eps=1e-05)\n",
            "          )\n",
            "          (conv2): Conv2d(\n",
            "            256, 256, kernel_size=(3, 3), stride=(1, 1), padding=(1, 1), bias=False\n",
            "            (norm): FrozenBatchNorm2d(num_features=256, eps=1e-05)\n",
            "          )\n",
            "          (conv3): Conv2d(\n",
            "            256, 1024, kernel_size=(1, 1), stride=(1, 1), bias=False\n",
            "            (norm): FrozenBatchNorm2d(num_features=1024, eps=1e-05)\n",
            "          )\n",
            "        )\n",
            "        (1): BottleneckBlock(\n",
            "          (conv1): Conv2d(\n",
            "            1024, 256, kernel_size=(1, 1), stride=(1, 1), bias=False\n",
            "            (norm): FrozenBatchNorm2d(num_features=256, eps=1e-05)\n",
            "          )\n",
            "          (conv2): Conv2d(\n",
            "            256, 256, kernel_size=(3, 3), stride=(1, 1), padding=(1, 1), bias=False\n",
            "            (norm): FrozenBatchNorm2d(num_features=256, eps=1e-05)\n",
            "          )\n",
            "          (conv3): Conv2d(\n",
            "            256, 1024, kernel_size=(1, 1), stride=(1, 1), bias=False\n",
            "            (norm): FrozenBatchNorm2d(num_features=1024, eps=1e-05)\n",
            "          )\n",
            "        )\n",
            "        (2): BottleneckBlock(\n",
            "          (conv1): Conv2d(\n",
            "            1024, 256, kernel_size=(1, 1), stride=(1, 1), bias=False\n",
            "            (norm): FrozenBatchNorm2d(num_features=256, eps=1e-05)\n",
            "          )\n",
            "          (conv2): Conv2d(\n",
            "            256, 256, kernel_size=(3, 3), stride=(1, 1), padding=(1, 1), bias=False\n",
            "            (norm): FrozenBatchNorm2d(num_features=256, eps=1e-05)\n",
            "          )\n",
            "          (conv3): Conv2d(\n",
            "            256, 1024, kernel_size=(1, 1), stride=(1, 1), bias=False\n",
            "            (norm): FrozenBatchNorm2d(num_features=1024, eps=1e-05)\n",
            "          )\n",
            "        )\n",
            "        (3): BottleneckBlock(\n",
            "          (conv1): Conv2d(\n",
            "            1024, 256, kernel_size=(1, 1), stride=(1, 1), bias=False\n",
            "            (norm): FrozenBatchNorm2d(num_features=256, eps=1e-05)\n",
            "          )\n",
            "          (conv2): Conv2d(\n",
            "            256, 256, kernel_size=(3, 3), stride=(1, 1), padding=(1, 1), bias=False\n",
            "            (norm): FrozenBatchNorm2d(num_features=256, eps=1e-05)\n",
            "          )\n",
            "          (conv3): Conv2d(\n",
            "            256, 1024, kernel_size=(1, 1), stride=(1, 1), bias=False\n",
            "            (norm): FrozenBatchNorm2d(num_features=1024, eps=1e-05)\n",
            "          )\n",
            "        )\n",
            "        (4): BottleneckBlock(\n",
            "          (conv1): Conv2d(\n",
            "            1024, 256, kernel_size=(1, 1), stride=(1, 1), bias=False\n",
            "            (norm): FrozenBatchNorm2d(num_features=256, eps=1e-05)\n",
            "          )\n",
            "          (conv2): Conv2d(\n",
            "            256, 256, kernel_size=(3, 3), stride=(1, 1), padding=(1, 1), bias=False\n",
            "            (norm): FrozenBatchNorm2d(num_features=256, eps=1e-05)\n",
            "          )\n",
            "          (conv3): Conv2d(\n",
            "            256, 1024, kernel_size=(1, 1), stride=(1, 1), bias=False\n",
            "            (norm): FrozenBatchNorm2d(num_features=1024, eps=1e-05)\n",
            "          )\n",
            "        )\n",
            "        (5): BottleneckBlock(\n",
            "          (conv1): Conv2d(\n",
            "            1024, 256, kernel_size=(1, 1), stride=(1, 1), bias=False\n",
            "            (norm): FrozenBatchNorm2d(num_features=256, eps=1e-05)\n",
            "          )\n",
            "          (conv2): Conv2d(\n",
            "            256, 256, kernel_size=(3, 3), stride=(1, 1), padding=(1, 1), bias=False\n",
            "            (norm): FrozenBatchNorm2d(num_features=256, eps=1e-05)\n",
            "          )\n",
            "          (conv3): Conv2d(\n",
            "            256, 1024, kernel_size=(1, 1), stride=(1, 1), bias=False\n",
            "            (norm): FrozenBatchNorm2d(num_features=1024, eps=1e-05)\n",
            "          )\n",
            "        )\n",
            "      )\n",
            "      (res5): Sequential(\n",
            "        (0): BottleneckBlock(\n",
            "          (shortcut): Conv2d(\n",
            "            1024, 2048, kernel_size=(1, 1), stride=(2, 2), bias=False\n",
            "            (norm): FrozenBatchNorm2d(num_features=2048, eps=1e-05)\n",
            "          )\n",
            "          (conv1): Conv2d(\n",
            "            1024, 512, kernel_size=(1, 1), stride=(2, 2), bias=False\n",
            "            (norm): FrozenBatchNorm2d(num_features=512, eps=1e-05)\n",
            "          )\n",
            "          (conv2): Conv2d(\n",
            "            512, 512, kernel_size=(3, 3), stride=(1, 1), padding=(1, 1), bias=False\n",
            "            (norm): FrozenBatchNorm2d(num_features=512, eps=1e-05)\n",
            "          )\n",
            "          (conv3): Conv2d(\n",
            "            512, 2048, kernel_size=(1, 1), stride=(1, 1), bias=False\n",
            "            (norm): FrozenBatchNorm2d(num_features=2048, eps=1e-05)\n",
            "          )\n",
            "        )\n",
            "        (1): BottleneckBlock(\n",
            "          (conv1): Conv2d(\n",
            "            2048, 512, kernel_size=(1, 1), stride=(1, 1), bias=False\n",
            "            (norm): FrozenBatchNorm2d(num_features=512, eps=1e-05)\n",
            "          )\n",
            "          (conv2): Conv2d(\n",
            "            512, 512, kernel_size=(3, 3), stride=(1, 1), padding=(1, 1), bias=False\n",
            "            (norm): FrozenBatchNorm2d(num_features=512, eps=1e-05)\n",
            "          )\n",
            "          (conv3): Conv2d(\n",
            "            512, 2048, kernel_size=(1, 1), stride=(1, 1), bias=False\n",
            "            (norm): FrozenBatchNorm2d(num_features=2048, eps=1e-05)\n",
            "          )\n",
            "        )\n",
            "        (2): BottleneckBlock(\n",
            "          (conv1): Conv2d(\n",
            "            2048, 512, kernel_size=(1, 1), stride=(1, 1), bias=False\n",
            "            (norm): FrozenBatchNorm2d(num_features=512, eps=1e-05)\n",
            "          )\n",
            "          (conv2): Conv2d(\n",
            "            512, 512, kernel_size=(3, 3), stride=(1, 1), padding=(1, 1), bias=False\n",
            "            (norm): FrozenBatchNorm2d(num_features=512, eps=1e-05)\n",
            "          )\n",
            "          (conv3): Conv2d(\n",
            "            512, 2048, kernel_size=(1, 1), stride=(1, 1), bias=False\n",
            "            (norm): FrozenBatchNorm2d(num_features=2048, eps=1e-05)\n",
            "          )\n",
            "        )\n",
            "      )\n",
            "    )\n",
            "  )\n",
            "  (proposal_generator): RPN(\n",
            "    (rpn_head): StandardRPNHead(\n",
            "      (conv): Conv2d(256, 256, kernel_size=(3, 3), stride=(1, 1), padding=(1, 1))\n",
            "      (objectness_logits): Conv2d(256, 3, kernel_size=(1, 1), stride=(1, 1))\n",
            "      (anchor_deltas): Conv2d(256, 12, kernel_size=(1, 1), stride=(1, 1))\n",
            "    )\n",
            "    (anchor_generator): DefaultAnchorGenerator(\n",
            "      (cell_anchors): BufferList()\n",
            "    )\n",
            "  )\n",
            "  (roi_heads): StandardROIHeads(\n",
            "    (box_pooler): ROIPooler(\n",
            "      (level_poolers): ModuleList(\n",
            "        (0): ROIAlign(output_size=(7, 7), spatial_scale=0.25, sampling_ratio=0, aligned=True)\n",
            "        (1): ROIAlign(output_size=(7, 7), spatial_scale=0.125, sampling_ratio=0, aligned=True)\n",
            "        (2): ROIAlign(output_size=(7, 7), spatial_scale=0.0625, sampling_ratio=0, aligned=True)\n",
            "        (3): ROIAlign(output_size=(7, 7), spatial_scale=0.03125, sampling_ratio=0, aligned=True)\n",
            "      )\n",
            "    )\n",
            "    (box_head): FastRCNNConvFCHead(\n",
            "      (flatten): Flatten(start_dim=1, end_dim=-1)\n",
            "      (fc1): Linear(in_features=12544, out_features=1024, bias=True)\n",
            "      (fc_relu1): ReLU()\n",
            "      (fc2): Linear(in_features=1024, out_features=1024, bias=True)\n",
            "      (fc_relu2): ReLU()\n",
            "    )\n",
            "    (box_predictor): FastRCNNOutputLayers(\n",
            "      (cls_score): Linear(in_features=1024, out_features=3, bias=True)\n",
            "      (bbox_pred): Linear(in_features=1024, out_features=8, bias=True)\n",
            "    )\n",
            "    (mask_pooler): ROIPooler(\n",
            "      (level_poolers): ModuleList(\n",
            "        (0): ROIAlign(output_size=(14, 14), spatial_scale=0.25, sampling_ratio=0, aligned=True)\n",
            "        (1): ROIAlign(output_size=(14, 14), spatial_scale=0.125, sampling_ratio=0, aligned=True)\n",
            "        (2): ROIAlign(output_size=(14, 14), spatial_scale=0.0625, sampling_ratio=0, aligned=True)\n",
            "        (3): ROIAlign(output_size=(14, 14), spatial_scale=0.03125, sampling_ratio=0, aligned=True)\n",
            "      )\n",
            "    )\n",
            "    (mask_head): MaskRCNNConvUpsampleHead(\n",
            "      (mask_fcn1): Conv2d(\n",
            "        256, 256, kernel_size=(3, 3), stride=(1, 1), padding=(1, 1)\n",
            "        (activation): ReLU()\n",
            "      )\n",
            "      (mask_fcn2): Conv2d(\n",
            "        256, 256, kernel_size=(3, 3), stride=(1, 1), padding=(1, 1)\n",
            "        (activation): ReLU()\n",
            "      )\n",
            "      (mask_fcn3): Conv2d(\n",
            "        256, 256, kernel_size=(3, 3), stride=(1, 1), padding=(1, 1)\n",
            "        (activation): ReLU()\n",
            "      )\n",
            "      (mask_fcn4): Conv2d(\n",
            "        256, 256, kernel_size=(3, 3), stride=(1, 1), padding=(1, 1)\n",
            "        (activation): ReLU()\n",
            "      )\n",
            "      (deconv): ConvTranspose2d(256, 256, kernel_size=(2, 2), stride=(2, 2))\n",
            "      (deconv_relu): ReLU()\n",
            "      (predictor): Conv2d(256, 2, kernel_size=(1, 1), stride=(1, 1))\n",
            "    )\n",
            "  )\n",
            ")\n",
            "\u001b[32m[03/31 05:05:53 d2.data.datasets.coco]: \u001b[0mLoaded 600 images in COCO format from ./Nature/train.json\n",
            "\u001b[32m[03/31 05:05:53 d2.data.build]: \u001b[0mRemoved 0 images with no usable annotations. 600 images left.\n",
            "\u001b[32m[03/31 05:05:53 d2.data.build]: \u001b[0mDistribution of instances among all 2 categories:\n",
            "\u001b[36m|  category  | #instances   |  category  | #instances   |\n",
            "|:----------:|:-------------|:----------:|:-------------|\n",
            "|  squirrel  | 312          | butterfly  | 341          |\n",
            "|            |              |            |              |\n",
            "|   total    | 653          |            |              |\u001b[0m\n",
            "\u001b[32m[03/31 05:05:53 d2.data.dataset_mapper]: \u001b[0m[DatasetMapper] Augmentations used in training: [ResizeShortestEdge(short_edge_length=(640, 672, 704, 736, 768, 800), max_size=1333, sample_style='choice'), RandomFlip()]\n",
            "\u001b[32m[03/31 05:05:53 d2.data.build]: \u001b[0mUsing training sampler TrainingSampler\n",
            "\u001b[32m[03/31 05:05:53 d2.data.common]: \u001b[0mSerializing 600 elements to byte tensors and concatenating them all ...\n",
            "\u001b[32m[03/31 05:05:53 d2.data.common]: \u001b[0mSerialized dataset takes 1.01 MiB\n",
            "\u001b[5m\u001b[31mWARNING\u001b[0m \u001b[32m[03/31 05:05:53 d2.solver.build]: \u001b[0mSOLVER.STEPS contains values larger than SOLVER.MAX_ITER. These values will be ignored.\n"
          ],
          "name": "stdout"
        },
        {
          "output_type": "stream",
          "text": [
            "model_final_f10217.pkl: 178MB [00:08, 20.7MB/s]                           \n",
            "Skip loading parameter 'roi_heads.box_predictor.cls_score.weight' to the model due to incompatible shapes: (81, 1024) in the checkpoint but (3, 1024) in the model! You might want to double check if this is expected.\n",
            "Skip loading parameter 'roi_heads.box_predictor.cls_score.bias' to the model due to incompatible shapes: (81,) in the checkpoint but (3,) in the model! You might want to double check if this is expected.\n",
            "Skip loading parameter 'roi_heads.box_predictor.bbox_pred.weight' to the model due to incompatible shapes: (320, 1024) in the checkpoint but (8, 1024) in the model! You might want to double check if this is expected.\n",
            "Skip loading parameter 'roi_heads.box_predictor.bbox_pred.bias' to the model due to incompatible shapes: (320,) in the checkpoint but (8,) in the model! You might want to double check if this is expected.\n",
            "Skip loading parameter 'roi_heads.mask_head.predictor.weight' to the model due to incompatible shapes: (80, 256, 1, 1) in the checkpoint but (2, 256, 1, 1) in the model! You might want to double check if this is expected.\n",
            "Skip loading parameter 'roi_heads.mask_head.predictor.bias' to the model due to incompatible shapes: (80,) in the checkpoint but (2,) in the model! You might want to double check if this is expected.\n"
          ],
          "name": "stderr"
        },
        {
          "output_type": "stream",
          "text": [
            "\u001b[32m[03/31 05:06:04 d2.engine.train_loop]: \u001b[0mStarting training from iteration 0\n",
            "\u001b[32m[03/31 05:06:13 d2.utils.events]: \u001b[0m eta: 0:07:51  iter: 19  total_loss: 2.049  loss_cls: 1.209  loss_box_reg: 0.1242  loss_mask: 0.697  loss_rpn_cls: 0.003184  loss_rpn_loc: 0.006511  time: 0.4631  data_time: 0.0176  lr: 4.9953e-06  max_mem: 2768M\n",
            "\u001b[32m[03/31 05:06:23 d2.utils.events]: \u001b[0m eta: 0:07:43  iter: 39  total_loss: 1.906  loss_cls: 1.027  loss_box_reg: 0.1059  loss_mask: 0.6932  loss_rpn_cls: 0.003343  loss_rpn_loc: 0.007601  time: 0.4691  data_time: 0.0101  lr: 9.9902e-06  max_mem: 2768M\n",
            "\u001b[32m[03/31 05:06:33 d2.utils.events]: \u001b[0m eta: 0:07:47  iter: 59  total_loss: 1.576  loss_cls: 0.774  loss_box_reg: 0.1076  loss_mask: 0.6827  loss_rpn_cls: 0.002658  loss_rpn_loc: 0.007015  time: 0.4763  data_time: 0.0065  lr: 1.4985e-05  max_mem: 2768M\n",
            "\u001b[32m[03/31 05:06:43 d2.utils.events]: \u001b[0m eta: 0:07:41  iter: 79  total_loss: 1.346  loss_cls: 0.5331  loss_box_reg: 0.1324  loss_mask: 0.6686  loss_rpn_cls: 0.00288  loss_rpn_loc: 0.007527  time: 0.4830  data_time: 0.0088  lr: 1.998e-05  max_mem: 2769M\n",
            "\u001b[32m[03/31 05:06:52 d2.utils.events]: \u001b[0m eta: 0:07:31  iter: 99  total_loss: 1.127  loss_cls: 0.3376  loss_box_reg: 0.1148  loss_mask: 0.6524  loss_rpn_cls: 0.001964  loss_rpn_loc: 0.00731  time: 0.4836  data_time: 0.0073  lr: 2.4975e-05  max_mem: 2769M\n",
            "\u001b[32m[03/31 05:07:03 d2.utils.events]: \u001b[0m eta: 0:07:24  iter: 119  total_loss: 0.9782  loss_cls: 0.2233  loss_box_reg: 0.1255  loss_mask: 0.6231  loss_rpn_cls: 0.001229  loss_rpn_loc: 0.007973  time: 0.4889  data_time: 0.0091  lr: 2.997e-05  max_mem: 2769M\n",
            "\u001b[32m[03/31 05:07:13 d2.utils.events]: \u001b[0m eta: 0:07:16  iter: 139  total_loss: 0.9047  loss_cls: 0.1823  loss_box_reg: 0.1228  loss_mask: 0.5904  loss_rpn_cls: 0.00346  loss_rpn_loc: 0.007193  time: 0.4914  data_time: 0.0073  lr: 3.4965e-05  max_mem: 2769M\n",
            "\u001b[32m[03/31 05:07:23 d2.utils.events]: \u001b[0m eta: 0:07:10  iter: 159  total_loss: 0.818  loss_cls: 0.1344  loss_box_reg: 0.1072  loss_mask: 0.5552  loss_rpn_cls: 0.001513  loss_rpn_loc: 0.009317  time: 0.4944  data_time: 0.0093  lr: 3.996e-05  max_mem: 2769M\n",
            "\u001b[32m[03/31 05:07:33 d2.utils.events]: \u001b[0m eta: 0:06:58  iter: 179  total_loss: 0.762  loss_cls: 0.1201  loss_box_reg: 0.1281  loss_mask: 0.5099  loss_rpn_cls: 0.0006933  loss_rpn_loc: 0.00634  time: 0.4931  data_time: 0.0086  lr: 4.4955e-05  max_mem: 2769M\n",
            "\u001b[32m[03/31 05:07:44 d2.utils.events]: \u001b[0m eta: 0:06:52  iter: 199  total_loss: 0.7384  loss_cls: 0.1291  loss_box_reg: 0.1362  loss_mask: 0.4607  loss_rpn_cls: 0.0008851  loss_rpn_loc: 0.009898  time: 0.4995  data_time: 0.0075  lr: 4.995e-05  max_mem: 2769M\n",
            "\u001b[32m[03/31 05:07:55 d2.utils.events]: \u001b[0m eta: 0:06:43  iter: 219  total_loss: 0.6975  loss_cls: 0.1009  loss_box_reg: 0.1067  loss_mask: 0.4614  loss_rpn_cls: 0.0007042  loss_rpn_loc: 0.009316  time: 0.5043  data_time: 0.0082  lr: 5.4945e-05  max_mem: 2769M\n",
            "\u001b[32m[03/31 05:08:06 d2.utils.events]: \u001b[0m eta: 0:06:35  iter: 239  total_loss: 0.6325  loss_cls: 0.1076  loss_box_reg: 0.1311  loss_mask: 0.3916  loss_rpn_cls: 0.0005084  loss_rpn_loc: 0.006957  time: 0.5066  data_time: 0.0081  lr: 5.994e-05  max_mem: 2769M\n",
            "\u001b[32m[03/31 05:08:16 d2.utils.events]: \u001b[0m eta: 0:06:25  iter: 259  total_loss: 0.5868  loss_cls: 0.09946  loss_box_reg: 0.1304  loss_mask: 0.3433  loss_rpn_cls: 0.001196  loss_rpn_loc: 0.007046  time: 0.5065  data_time: 0.0077  lr: 6.4935e-05  max_mem: 2769M\n",
            "\u001b[32m[03/31 05:08:26 d2.utils.events]: \u001b[0m eta: 0:06:14  iter: 279  total_loss: 0.5531  loss_cls: 0.1011  loss_box_reg: 0.1296  loss_mask: 0.3241  loss_rpn_cls: 0.0008869  loss_rpn_loc: 0.006792  time: 0.5067  data_time: 0.0090  lr: 6.993e-05  max_mem: 2769M\n",
            "\u001b[32m[03/31 05:08:37 d2.utils.events]: \u001b[0m eta: 0:06:06  iter: 299  total_loss: 0.5329  loss_cls: 0.1063  loss_box_reg: 0.1517  loss_mask: 0.2677  loss_rpn_cls: 0.0006245  loss_rpn_loc: 0.006996  time: 0.5081  data_time: 0.0085  lr: 7.4925e-05  max_mem: 2769M\n",
            "\u001b[32m[03/31 05:08:47 d2.utils.events]: \u001b[0m eta: 0:05:56  iter: 319  total_loss: 0.4796  loss_cls: 0.09358  loss_box_reg: 0.1261  loss_mask: 0.2147  loss_rpn_cls: 0.0006814  loss_rpn_loc: 0.006554  time: 0.5085  data_time: 0.0071  lr: 7.992e-05  max_mem: 2769M\n",
            "\u001b[32m[03/31 05:08:57 d2.utils.events]: \u001b[0m eta: 0:05:46  iter: 339  total_loss: 0.4528  loss_cls: 0.09662  loss_box_reg: 0.1562  loss_mask: 0.1997  loss_rpn_cls: 0.0006335  loss_rpn_loc: 0.007111  time: 0.5095  data_time: 0.0076  lr: 8.4915e-05  max_mem: 2769M\n",
            "\u001b[32m[03/31 05:09:08 d2.utils.events]: \u001b[0m eta: 0:05:35  iter: 359  total_loss: 0.4533  loss_cls: 0.08576  loss_box_reg: 0.1281  loss_mask: 0.2064  loss_rpn_cls: 0.0006536  loss_rpn_loc: 0.008782  time: 0.5103  data_time: 0.0093  lr: 8.991e-05  max_mem: 2769M\n",
            "\u001b[32m[03/31 05:09:19 d2.utils.events]: \u001b[0m eta: 0:05:25  iter: 379  total_loss: 0.431  loss_cls: 0.0826  loss_box_reg: 0.1336  loss_mask: 0.1888  loss_rpn_cls: 0.0005559  loss_rpn_loc: 0.008323  time: 0.5117  data_time: 0.0084  lr: 9.4905e-05  max_mem: 2770M\n",
            "\u001b[32m[03/31 05:09:29 d2.utils.events]: \u001b[0m eta: 0:05:15  iter: 399  total_loss: 0.4253  loss_cls: 0.08714  loss_box_reg: 0.1368  loss_mask: 0.1773  loss_rpn_cls: 0.00107  loss_rpn_loc: 0.007105  time: 0.5128  data_time: 0.0109  lr: 9.99e-05  max_mem: 2770M\n",
            "\u001b[32m[03/31 05:09:40 d2.utils.events]: \u001b[0m eta: 0:05:06  iter: 419  total_loss: 0.4211  loss_cls: 0.07555  loss_box_reg: 0.1324  loss_mask: 0.1994  loss_rpn_cls: 0.0005039  loss_rpn_loc: 0.008522  time: 0.5147  data_time: 0.0071  lr: 0.0001049  max_mem: 2770M\n",
            "\u001b[32m[03/31 05:09:51 d2.utils.events]: \u001b[0m eta: 0:04:56  iter: 439  total_loss: 0.4166  loss_cls: 0.08085  loss_box_reg: 0.1496  loss_mask: 0.1777  loss_rpn_cls: 0.0002999  loss_rpn_loc: 0.006567  time: 0.5155  data_time: 0.0083  lr: 0.00010989  max_mem: 2770M\n",
            "\u001b[32m[03/31 05:10:02 d2.utils.events]: \u001b[0m eta: 0:04:45  iter: 459  total_loss: 0.3975  loss_cls: 0.07311  loss_box_reg: 0.1411  loss_mask: 0.1408  loss_rpn_cls: 0.000365  loss_rpn_loc: 0.008115  time: 0.5168  data_time: 0.0077  lr: 0.00011489  max_mem: 2770M\n",
            "\u001b[32m[03/31 05:10:13 d2.utils.events]: \u001b[0m eta: 0:04:35  iter: 479  total_loss: 0.4085  loss_cls: 0.0718  loss_box_reg: 0.1417  loss_mask: 0.1471  loss_rpn_cls: 0.0001893  loss_rpn_loc: 0.007054  time: 0.5175  data_time: 0.0090  lr: 0.00011988  max_mem: 2770M\n",
            "\u001b[32m[03/31 05:10:23 d2.utils.events]: \u001b[0m eta: 0:04:25  iter: 499  total_loss: 0.3546  loss_cls: 0.06402  loss_box_reg: 0.1302  loss_mask: 0.1529  loss_rpn_cls: 0.001029  loss_rpn_loc: 0.01097  time: 0.5182  data_time: 0.0070  lr: 0.00012488  max_mem: 2770M\n",
            "\u001b[32m[03/31 05:10:34 d2.utils.events]: \u001b[0m eta: 0:04:14  iter: 519  total_loss: 0.3654  loss_cls: 0.06202  loss_box_reg: 0.1186  loss_mask: 0.152  loss_rpn_cls: 0.0003218  loss_rpn_loc: 0.006537  time: 0.5192  data_time: 0.0100  lr: 0.00012987  max_mem: 2770M\n",
            "\u001b[32m[03/31 05:10:45 d2.utils.events]: \u001b[0m eta: 0:04:04  iter: 539  total_loss: 0.3371  loss_cls: 0.06681  loss_box_reg: 0.152  loss_mask: 0.1287  loss_rpn_cls: 0.0003977  loss_rpn_loc: 0.01007  time: 0.5201  data_time: 0.0075  lr: 0.00013487  max_mem: 2770M\n",
            "\u001b[32m[03/31 05:10:56 d2.utils.events]: \u001b[0m eta: 0:03:53  iter: 559  total_loss: 0.3621  loss_cls: 0.06527  loss_box_reg: 0.1497  loss_mask: 0.1182  loss_rpn_cls: 7.705e-05  loss_rpn_loc: 0.006764  time: 0.5201  data_time: 0.0083  lr: 0.00013986  max_mem: 2770M\n",
            "\u001b[32m[03/31 05:11:06 d2.utils.events]: \u001b[0m eta: 0:03:43  iter: 579  total_loss: 0.3324  loss_cls: 0.06042  loss_box_reg: 0.13  loss_mask: 0.1323  loss_rpn_cls: 0.0002588  loss_rpn_loc: 0.006662  time: 0.5203  data_time: 0.0088  lr: 0.00014486  max_mem: 2770M\n",
            "\u001b[32m[03/31 05:11:17 d2.utils.events]: \u001b[0m eta: 0:03:33  iter: 599  total_loss: 0.3161  loss_cls: 0.05713  loss_box_reg: 0.1216  loss_mask: 0.1331  loss_rpn_cls: 8.081e-05  loss_rpn_loc: 0.01082  time: 0.5211  data_time: 0.0074  lr: 0.00014985  max_mem: 2770M\n",
            "\u001b[32m[03/31 05:11:28 d2.utils.events]: \u001b[0m eta: 0:03:23  iter: 619  total_loss: 0.349  loss_cls: 0.0647  loss_box_reg: 0.1361  loss_mask: 0.1302  loss_rpn_cls: 0.0006684  loss_rpn_loc: 0.007098  time: 0.5217  data_time: 0.0068  lr: 0.00015485  max_mem: 2770M\n",
            "\u001b[32m[03/31 05:11:38 d2.utils.events]: \u001b[0m eta: 0:03:12  iter: 639  total_loss: 0.3331  loss_cls: 0.05348  loss_box_reg: 0.1235  loss_mask: 0.1389  loss_rpn_cls: 9.764e-05  loss_rpn_loc: 0.006782  time: 0.5219  data_time: 0.0090  lr: 0.00015984  max_mem: 2770M\n",
            "\u001b[32m[03/31 05:11:49 d2.utils.events]: \u001b[0m eta: 0:03:02  iter: 659  total_loss: 0.3195  loss_cls: 0.05226  loss_box_reg: 0.1311  loss_mask: 0.1106  loss_rpn_cls: 0.0001364  loss_rpn_loc: 0.01063  time: 0.5223  data_time: 0.0089  lr: 0.00016484  max_mem: 2770M\n",
            "\u001b[32m[03/31 05:12:00 d2.utils.events]: \u001b[0m eta: 0:02:51  iter: 679  total_loss: 0.319  loss_cls: 0.04979  loss_box_reg: 0.1167  loss_mask: 0.136  loss_rpn_cls: 0.0002294  loss_rpn_loc: 0.006935  time: 0.5230  data_time: 0.0070  lr: 0.00016983  max_mem: 2770M\n",
            "\u001b[32m[03/31 05:12:10 d2.utils.events]: \u001b[0m eta: 0:02:40  iter: 699  total_loss: 0.3003  loss_cls: 0.04512  loss_box_reg: 0.1149  loss_mask: 0.1327  loss_rpn_cls: 0.0002504  loss_rpn_loc: 0.005723  time: 0.5228  data_time: 0.0091  lr: 0.00017483  max_mem: 2770M\n",
            "\u001b[32m[03/31 05:12:21 d2.utils.events]: \u001b[0m eta: 0:02:30  iter: 719  total_loss: 0.2976  loss_cls: 0.04201  loss_box_reg: 0.1016  loss_mask: 0.1312  loss_rpn_cls: 0.0001031  loss_rpn_loc: 0.006136  time: 0.5233  data_time: 0.0098  lr: 0.00017982  max_mem: 2770M\n",
            "\u001b[32m[03/31 05:12:32 d2.utils.events]: \u001b[0m eta: 0:02:19  iter: 739  total_loss: 0.279  loss_cls: 0.04602  loss_box_reg: 0.08933  loss_mask: 0.1424  loss_rpn_cls: 0.0001028  loss_rpn_loc: 0.007012  time: 0.5233  data_time: 0.0071  lr: 0.00018482  max_mem: 2770M\n",
            "\u001b[32m[03/31 05:12:42 d2.utils.events]: \u001b[0m eta: 0:02:08  iter: 759  total_loss: 0.2871  loss_cls: 0.04793  loss_box_reg: 0.11  loss_mask: 0.1202  loss_rpn_cls: 9.347e-05  loss_rpn_loc: 0.006287  time: 0.5237  data_time: 0.0083  lr: 0.00018981  max_mem: 2770M\n",
            "\u001b[32m[03/31 05:12:53 d2.utils.events]: \u001b[0m eta: 0:01:58  iter: 779  total_loss: 0.3226  loss_cls: 0.05397  loss_box_reg: 0.09749  loss_mask: 0.159  loss_rpn_cls: 0.0001622  loss_rpn_loc: 0.006413  time: 0.5240  data_time: 0.0086  lr: 0.00019481  max_mem: 2770M\n",
            "\u001b[32m[03/31 05:13:04 d2.utils.events]: \u001b[0m eta: 0:01:47  iter: 799  total_loss: 0.2784  loss_cls: 0.04861  loss_box_reg: 0.1019  loss_mask: 0.1305  loss_rpn_cls: 5.791e-05  loss_rpn_loc: 0.008076  time: 0.5239  data_time: 0.0080  lr: 0.0001998  max_mem: 2770M\n",
            "\u001b[32m[03/31 05:13:14 d2.utils.events]: \u001b[0m eta: 0:01:36  iter: 819  total_loss: 0.262  loss_cls: 0.04157  loss_box_reg: 0.07405  loss_mask: 0.1209  loss_rpn_cls: 0.0001301  loss_rpn_loc: 0.005756  time: 0.5242  data_time: 0.0086  lr: 0.0002048  max_mem: 2770M\n",
            "\u001b[32m[03/31 05:13:25 d2.utils.events]: \u001b[0m eta: 0:01:25  iter: 839  total_loss: 0.2148  loss_cls: 0.03633  loss_box_reg: 0.07523  loss_mask: 0.1038  loss_rpn_cls: 5.095e-05  loss_rpn_loc: 0.00865  time: 0.5243  data_time: 0.0079  lr: 0.00020979  max_mem: 2770M\n",
            "\u001b[32m[03/31 05:13:36 d2.utils.events]: \u001b[0m eta: 0:01:15  iter: 859  total_loss: 0.3164  loss_cls: 0.05836  loss_box_reg: 0.1085  loss_mask: 0.1278  loss_rpn_cls: 8.343e-05  loss_rpn_loc: 0.008743  time: 0.5249  data_time: 0.0072  lr: 0.00021479  max_mem: 2770M\n",
            "\u001b[32m[03/31 05:13:46 d2.utils.events]: \u001b[0m eta: 0:01:04  iter: 879  total_loss: 0.2243  loss_cls: 0.04401  loss_box_reg: 0.07201  loss_mask: 0.1161  loss_rpn_cls: 0.0001238  loss_rpn_loc: 0.005715  time: 0.5243  data_time: 0.0086  lr: 0.00021978  max_mem: 2770M\n",
            "\u001b[32m[03/31 05:13:57 d2.utils.events]: \u001b[0m eta: 0:00:53  iter: 899  total_loss: 0.2359  loss_cls: 0.0381  loss_box_reg: 0.06032  loss_mask: 0.1179  loss_rpn_cls: 0.00093  loss_rpn_loc: 0.009891  time: 0.5246  data_time: 0.0073  lr: 0.00022478  max_mem: 2770M\n",
            "\u001b[32m[03/31 05:14:08 d2.utils.events]: \u001b[0m eta: 0:00:43  iter: 919  total_loss: 0.2554  loss_cls: 0.0393  loss_box_reg: 0.07029  loss_mask: 0.1082  loss_rpn_cls: 0.0001572  loss_rpn_loc: 0.01085  time: 0.5252  data_time: 0.0085  lr: 0.00022977  max_mem: 2770M\n",
            "\u001b[32m[03/31 05:14:18 d2.utils.events]: \u001b[0m eta: 0:00:32  iter: 939  total_loss: 0.2321  loss_cls: 0.05082  loss_box_reg: 0.07179  loss_mask: 0.1059  loss_rpn_cls: 0.0001224  loss_rpn_loc: 0.00881  time: 0.5251  data_time: 0.0070  lr: 0.00023477  max_mem: 2770M\n",
            "\u001b[32m[03/31 05:14:29 d2.utils.events]: \u001b[0m eta: 0:00:21  iter: 959  total_loss: 0.2093  loss_cls: 0.03568  loss_box_reg: 0.06434  loss_mask: 0.1065  loss_rpn_cls: 0.0001711  loss_rpn_loc: 0.008074  time: 0.5252  data_time: 0.0087  lr: 0.00023976  max_mem: 2770M\n",
            "\u001b[32m[03/31 05:14:39 d2.utils.events]: \u001b[0m eta: 0:00:10  iter: 979  total_loss: 0.2184  loss_cls: 0.04201  loss_box_reg: 0.07144  loss_mask: 0.09176  loss_rpn_cls: 4.949e-05  loss_rpn_loc: 0.005534  time: 0.5251  data_time: 0.0078  lr: 0.00024476  max_mem: 2770M\n",
            "\u001b[32m[03/31 05:14:50 d2.utils.events]: \u001b[0m eta: 0:00:00  iter: 999  total_loss: 0.2871  loss_cls: 0.03905  loss_box_reg: 0.07669  loss_mask: 0.1434  loss_rpn_cls: 7.657e-05  loss_rpn_loc: 0.006492  time: 0.5249  data_time: 0.0066  lr: 0.00024975  max_mem: 2770M\n",
            "\u001b[32m[03/31 05:14:51 d2.engine.hooks]: \u001b[0mOverall training speed: 998 iterations in 0:08:43 (0.5249 s / it)\n",
            "\u001b[32m[03/31 05:14:51 d2.engine.hooks]: \u001b[0mTotal training time: 0:08:46 (0:00:02 on hooks)\n"
          ],
          "name": "stdout"
        }
      ]
    },
    {
      "cell_type": "code",
      "metadata": {
        "colab": {
          "base_uri": "https://localhost:8080/"
        },
        "id": "Xy0h_esJrdwZ",
        "outputId": "9453425f-7e0b-49ca-9695-e6625707142a"
      },
      "source": [
        "from detectron2.data import DatasetCatalog, MetadataCatalog, build_detection_test_loader\n",
        "from detectron2.evaluation import COCOEvaluator, inference_on_dataset\n",
        "\n",
        "cfg.MODEL.WEIGHTS = os.path.join(cfg.OUTPUT_DIR, \"model_final.pth\")\n",
        "cfg.MODEL.ROI_HEADS.SCORE_THRESH_TEST = 0.5\n",
        "predictor = DefaultPredictor(cfg)\n",
        "\n",
        "\n",
        "evaluator = COCOEvaluator(\"Nature_test\", cfg, False, output_dir=\"./output/\")\n",
        "val_loader = build_detection_test_loader(cfg, \"Nature_test\")\n",
        "inference_on_dataset(trainer.model, val_loader, evaluator)"
      ],
      "execution_count": null,
      "outputs": [
        {
          "output_type": "stream",
          "text": [
            "\u001b[5m\u001b[31mWARNING\u001b[0m \u001b[32m[03/31 05:15:02 d2.evaluation.coco_evaluation]: \u001b[0mCOCO Evaluator instantiated using config, this is deprecated behavior. Please pass in explicit arguments instead.\n",
            "\u001b[32m[03/31 05:15:02 d2.data.datasets.coco]: \u001b[0mLoaded 200 images in COCO format from ./Nature/test.json\n",
            "\u001b[32m[03/31 05:15:02 d2.data.build]: \u001b[0mDistribution of instances among all 2 categories:\n",
            "\u001b[36m|  category  | #instances   |  category  | #instances   |\n",
            "|:----------:|:-------------|:----------:|:-------------|\n",
            "|  squirrel  | 109          | butterfly  | 107          |\n",
            "|            |              |            |              |\n",
            "|   total    | 216          |            |              |\u001b[0m\n",
            "\u001b[32m[03/31 05:15:02 d2.data.dataset_mapper]: \u001b[0m[DatasetMapper] Augmentations used in inference: [ResizeShortestEdge(short_edge_length=(800, 800), max_size=1333, sample_style='choice')]\n",
            "\u001b[32m[03/31 05:15:02 d2.data.common]: \u001b[0mSerializing 200 elements to byte tensors and concatenating them all ...\n",
            "\u001b[32m[03/31 05:15:02 d2.data.common]: \u001b[0mSerialized dataset takes 0.34 MiB\n",
            "\u001b[32m[03/31 05:15:02 d2.evaluation.evaluator]: \u001b[0mStart inference on 200 images\n",
            "\u001b[32m[03/31 05:15:03 d2.evaluation.evaluator]: \u001b[0mInference done 11/200. 0.1033 s / img. ETA=0:00:19\n",
            "\u001b[32m[03/31 05:15:09 d2.evaluation.evaluator]: \u001b[0mInference done 55/200. 0.1113 s / img. ETA=0:00:16\n",
            "\u001b[32m[03/31 05:15:14 d2.evaluation.evaluator]: \u001b[0mInference done 99/200. 0.1117 s / img. ETA=0:00:11\n",
            "\u001b[32m[03/31 05:15:19 d2.evaluation.evaluator]: \u001b[0mInference done 143/200. 0.1124 s / img. ETA=0:00:06\n",
            "\u001b[32m[03/31 05:15:24 d2.evaluation.evaluator]: \u001b[0mInference done 187/200. 0.1127 s / img. ETA=0:00:01\n",
            "\u001b[32m[03/31 05:15:25 d2.evaluation.evaluator]: \u001b[0mTotal inference time: 0:00:22.569594 (0.115742 s / img per device, on 1 devices)\n",
            "\u001b[32m[03/31 05:15:25 d2.evaluation.evaluator]: \u001b[0mTotal inference pure compute time: 0:00:22 (0.113179 s / img per device, on 1 devices)\n",
            "\u001b[32m[03/31 05:15:25 d2.evaluation.coco_evaluation]: \u001b[0mPreparing results for COCO format ...\n",
            "\u001b[32m[03/31 05:15:25 d2.evaluation.coco_evaluation]: \u001b[0mSaving results to ./output/coco_instances_results.json\n",
            "\u001b[32m[03/31 05:15:25 d2.evaluation.coco_evaluation]: \u001b[0mEvaluating predictions with unofficial COCO API...\n",
            "Loading and preparing results...\n",
            "DONE (t=0.00s)\n",
            "creating index...\n",
            "index created!\n",
            "\u001b[32m[03/31 05:15:25 d2.evaluation.fast_eval_api]: \u001b[0mEvaluate annotation type *bbox*\n",
            "\u001b[32m[03/31 05:15:25 d2.evaluation.fast_eval_api]: \u001b[0mCOCOeval_opt.evaluate() finished in 0.03 seconds.\n",
            "\u001b[32m[03/31 05:15:25 d2.evaluation.fast_eval_api]: \u001b[0mAccumulating evaluation results...\n",
            "\u001b[32m[03/31 05:15:25 d2.evaluation.fast_eval_api]: \u001b[0mCOCOeval_opt.accumulate() finished in 0.01 seconds.\n",
            " Average Precision  (AP) @[ IoU=0.50:0.95 | area=   all | maxDets=100 ] = 0.638\n",
            " Average Precision  (AP) @[ IoU=0.50      | area=   all | maxDets=100 ] = 0.970\n",
            " Average Precision  (AP) @[ IoU=0.75      | area=   all | maxDets=100 ] = 0.755\n",
            " Average Precision  (AP) @[ IoU=0.50:0.95 | area= small | maxDets=100 ] = -1.000\n",
            " Average Precision  (AP) @[ IoU=0.50:0.95 | area=medium | maxDets=100 ] = -1.000\n",
            " Average Precision  (AP) @[ IoU=0.50:0.95 | area= large | maxDets=100 ] = 0.641\n",
            " Average Recall     (AR) @[ IoU=0.50:0.95 | area=   all | maxDets=  1 ] = 0.648\n",
            " Average Recall     (AR) @[ IoU=0.50:0.95 | area=   all | maxDets= 10 ] = 0.718\n",
            " Average Recall     (AR) @[ IoU=0.50:0.95 | area=   all | maxDets=100 ] = 0.718\n",
            " Average Recall     (AR) @[ IoU=0.50:0.95 | area= small | maxDets=100 ] = -1.000\n",
            " Average Recall     (AR) @[ IoU=0.50:0.95 | area=medium | maxDets=100 ] = -1.000\n",
            " Average Recall     (AR) @[ IoU=0.50:0.95 | area= large | maxDets=100 ] = 0.718\n",
            "\u001b[32m[03/31 05:15:25 d2.evaluation.coco_evaluation]: \u001b[0mEvaluation results for bbox: \n",
            "|   AP   |  AP50  |  AP75  |  APs  |  APm  |  APl   |\n",
            "|:------:|:------:|:------:|:-----:|:-----:|:------:|\n",
            "| 63.750 | 96.952 | 75.514 |  nan  |  nan  | 64.126 |\n",
            "\u001b[32m[03/31 05:15:25 d2.evaluation.coco_evaluation]: \u001b[0mSome metrics cannot be computed and is shown as NaN.\n",
            "\u001b[32m[03/31 05:15:25 d2.evaluation.coco_evaluation]: \u001b[0mPer-category bbox AP: \n",
            "| category   | AP     | category   | AP     |\n",
            "|:-----------|:-------|:-----------|:-------|\n",
            "| squirrel   | 64.984 | butterfly  | 62.516 |\n",
            "Loading and preparing results...\n",
            "DONE (t=0.01s)\n",
            "creating index...\n",
            "index created!\n",
            "\u001b[32m[03/31 05:15:26 d2.evaluation.fast_eval_api]: \u001b[0mEvaluate annotation type *segm*\n",
            "\u001b[32m[03/31 05:15:26 d2.evaluation.fast_eval_api]: \u001b[0mCOCOeval_opt.evaluate() finished in 0.05 seconds.\n",
            "\u001b[32m[03/31 05:15:26 d2.evaluation.fast_eval_api]: \u001b[0mAccumulating evaluation results...\n",
            "\u001b[32m[03/31 05:15:26 d2.evaluation.fast_eval_api]: \u001b[0mCOCOeval_opt.accumulate() finished in 0.00 seconds.\n",
            " Average Precision  (AP) @[ IoU=0.50:0.95 | area=   all | maxDets=100 ] = 0.738\n",
            " Average Precision  (AP) @[ IoU=0.50      | area=   all | maxDets=100 ] = 0.964\n",
            " Average Precision  (AP) @[ IoU=0.75      | area=   all | maxDets=100 ] = 0.846\n",
            " Average Precision  (AP) @[ IoU=0.50:0.95 | area= small | maxDets=100 ] = -1.000\n",
            " Average Precision  (AP) @[ IoU=0.50:0.95 | area=medium | maxDets=100 ] = -1.000\n",
            " Average Precision  (AP) @[ IoU=0.50:0.95 | area= large | maxDets=100 ] = 0.764\n",
            " Average Recall     (AR) @[ IoU=0.50:0.95 | area=   all | maxDets=  1 ] = 0.726\n",
            " Average Recall     (AR) @[ IoU=0.50:0.95 | area=   all | maxDets= 10 ] = 0.796\n",
            " Average Recall     (AR) @[ IoU=0.50:0.95 | area=   all | maxDets=100 ] = 0.796\n",
            " Average Recall     (AR) @[ IoU=0.50:0.95 | area= small | maxDets=100 ] = -1.000\n",
            " Average Recall     (AR) @[ IoU=0.50:0.95 | area=medium | maxDets=100 ] = -1.000\n",
            " Average Recall     (AR) @[ IoU=0.50:0.95 | area= large | maxDets=100 ] = 0.796\n",
            "\u001b[32m[03/31 05:15:26 d2.evaluation.coco_evaluation]: \u001b[0mEvaluation results for segm: \n",
            "|   AP   |  AP50  |  AP75  |  APs  |  APm  |  APl   |\n",
            "|:------:|:------:|:------:|:-----:|:-----:|:------:|\n",
            "| 73.770 | 96.442 | 84.619 |  nan  |  nan  | 76.358 |\n",
            "\u001b[32m[03/31 05:15:26 d2.evaluation.coco_evaluation]: \u001b[0mSome metrics cannot be computed and is shown as NaN.\n",
            "\u001b[32m[03/31 05:15:26 d2.evaluation.coco_evaluation]: \u001b[0mPer-category segm AP: \n",
            "| category   | AP     | category   | AP     |\n",
            "|:-----------|:-------|:-----------|:-------|\n",
            "| squirrel   | 68.707 | butterfly  | 78.833 |\n"
          ],
          "name": "stdout"
        },
        {
          "output_type": "execute_result",
          "data": {
            "text/plain": [
              "OrderedDict([('bbox',\n",
              "              {'AP': 63.750261415109335,\n",
              "               'AP-butterfly': 62.51634458946014,\n",
              "               'AP-squirrel': 64.98417824075852,\n",
              "               'AP50': 96.9523700466372,\n",
              "               'AP75': 75.51355754288545,\n",
              "               'APl': 64.12578175810975,\n",
              "               'APm': nan,\n",
              "               'APs': nan}),\n",
              "             ('segm',\n",
              "              {'AP': 73.76999013211089,\n",
              "               'AP-butterfly': 78.83337865053703,\n",
              "               'AP-squirrel': 68.70660161368478,\n",
              "               'AP50': 96.44152588743276,\n",
              "               'AP75': 84.61945520208538,\n",
              "               'APl': 76.35823440626156,\n",
              "               'APm': nan,\n",
              "               'APs': nan})])"
            ]
          },
          "metadata": {
            "tags": []
          },
          "execution_count": 6
        }
      ]
    },
    {
      "cell_type": "code",
      "metadata": {
        "id": "gZcqsSX3tkM8"
      },
      "source": [
        "!mv \"./output\" \"./drive/MyDrive/Datasets/Nature/\""
      ],
      "execution_count": null,
      "outputs": []
    },
    {
      "cell_type": "code",
      "metadata": {
        "id": "qWoQwrNttyUb"
      },
      "source": [
        "!mv  \"./Nature\" \"./drive/MyDrive/Datasets/Nature/\""
      ],
      "execution_count": null,
      "outputs": []
    }
  ]
}